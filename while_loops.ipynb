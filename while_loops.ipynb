{
 "cells": [
  {
   "cell_type": "code",
   "execution_count": 1,
   "metadata": {},
   "outputs": [],
   "source": [
    "#while loops \n",
    "\n",
    "#similar to a for loop, while loops output each statement, but based on a while statement being true. \n",
    "#Once the while statment is no longer true, the while loop ends"
   ]
  },
  {
   "cell_type": "code",
   "execution_count": 4,
   "metadata": {},
   "outputs": [
    {
     "name": "stdout",
     "output_type": "stream",
     "text": [
      "0\n",
      "1\n",
      "2\n",
      "3\n",
      "4\n",
      "5\n",
      "6\n",
      "7\n",
      "8\n",
      "9\n",
      "10\n"
     ]
    }
   ],
   "source": [
    "x = 0\n",
    "while x <= 10:\n",
    "    print(x)\n",
    "    x += 1 #if this line is removed you would get an infinite - do not run code without the incrementing.\n",
    "    "
   ]
  },
  {
   "cell_type": "code",
   "execution_count": 6,
   "metadata": {},
   "outputs": [
    {
     "name": "stdout",
     "output_type": "stream",
     "text": [
      "The multiplication is:  1\n",
      "The multiplication is:  3\n",
      "The multiplication is:  5\n",
      "The multiplication is:  7\n",
      "The multiplication is:  9\n",
      "The multiplication is:  11\n",
      "The multiplication is:  13\n",
      "The multiplication is:  15\n",
      "The multiplication is:  17\n",
      "The multiplication is:  19\n"
     ]
    }
   ],
   "source": [
    "num = 1\n",
    "while num < 20: \n",
    "    print(\"The multiplication is: \", num)\n",
    "    num += 2 "
   ]
  },
  {
   "cell_type": "code",
   "execution_count": 8,
   "metadata": {},
   "outputs": [
    {
     "name": "stdout",
     "output_type": "stream",
     "text": [
      "The division is:  1000 2\n",
      "The division is:  333 2\n",
      "The division is:  111 2\n",
      "The division is:  37 2\n",
      "The division is:  12 2\n"
     ]
    }
   ],
   "source": [
    "div = 1000\n",
    "while div > 10: \n",
    "    print(\"The division is: \", round(div), 2)\n",
    "    div /= 3"
   ]
  },
  {
   "cell_type": "code",
   "execution_count": 9,
   "metadata": {},
   "outputs": [
    {
     "name": "stdout",
     "output_type": "stream",
     "text": [
      "The floor is : 200\n",
      "The floor is : 100\n",
      "The floor is : 50\n",
      "The floor is : 25\n",
      "The floor is : 12\n"
     ]
    }
   ],
   "source": [
    "floor = 200\n",
    "while floor > 10: \n",
    "    print(\"The floor is :\", floor)\n",
    "    floor //= 2"
   ]
  },
  {
   "cell_type": "code",
   "execution_count": 14,
   "metadata": {},
   "outputs": [
    {
     "name": "stdout",
     "output_type": "stream",
     "text": [
      "Count down to lift off in  10 seconds!\n",
      "Count down to lift off in  9 seconds!\n",
      "Count down to lift off in  8 seconds!\n",
      "Count down to lift off in  7 seconds!\n",
      "Count down to lift off in  6 seconds!\n",
      "Count down to lift off in  5 seconds!\n",
      "Count down to lift off in  4 seconds!\n",
      "Count down to lift off in  3 seconds!\n",
      "Count down to lift off in  2 seconds!\n",
      "Count down to lift off in  1 seconds!\n",
      "Blast off!\n"
     ]
    }
   ],
   "source": [
    "sub = 10 \n",
    "while sub > 0: \n",
    "    print(\"Count down to lift off in \", str(sub) + \" seconds!\")\n",
    "    sub -= 1\n",
    "    if sub == 0:\n",
    "        print(\"Blast off!\")"
   ]
  },
  {
   "cell_type": "code",
   "execution_count": 15,
   "metadata": {},
   "outputs": [
    {
     "name": "stdout",
     "output_type": "stream",
     "text": [
      "0 + 0 = 0\n",
      "1 + 1 = 2\n",
      "2 + 2 = 4\n",
      "3 + 3 = 6\n",
      "4 + 4 = 8\n",
      "5 + 5 = 10\n",
      "6 + 6 = 12\n",
      "7 + 7 = 14\n"
     ]
    }
   ],
   "source": [
    "p = 0\n",
    "while p < 8:\n",
    "    print(\"{} + {} = {}\".format(p,p, (p+p)))\n",
    "    p +=1"
   ]
  },
  {
   "cell_type": "code",
   "execution_count": 16,
   "metadata": {},
   "outputs": [
    {
     "name": "stdout",
     "output_type": "stream",
     "text": [
      "1 + 1 = 2\n",
      "2 + 2 = 4\n",
      "3 + 3 = 6\n",
      "4 + 4 = 8\n",
      "5 + 5 = 10\n",
      "6 + 6 = 12\n",
      "7 + 7 = 14\n"
     ]
    }
   ],
   "source": [
    "a = 1\n",
    "while a < 8: \n",
    "    print(\"%d + %d = %d\" % (a, a, (a+a)))\n",
    "    a += 1"
   ]
  },
  {
   "cell_type": "code",
   "execution_count": 22,
   "metadata": {},
   "outputs": [
    {
     "name": "stdout",
     "output_type": "stream",
     "text": [
      "1 / 1.000000 = 1\n",
      "2 / 2.000000 = 1\n",
      "3 / 3.000000 = 1\n",
      "4 / 4.000000 = 1\n",
      "5 / 5.000000 = 1\n",
      "6 / 6.000000 = 1\n",
      "7 / 7.000000 = 1\n",
      "8 / 8.000000 = 1\n",
      "9 / 9.000000 = 1\n",
      "10 / 10.000000 = 1\n",
      "11 / 11.000000 = 1\n",
      "12 / 12.000000 = 1\n",
      "13 / 13.000000 = 1\n",
      "14 / 14.000000 = 1\n"
     ]
    }
   ],
   "source": [
    "p  = 1 ; o = 1\n",
    "while p < 15 and 0 < 15: \n",
    "    print(\"%i / %f = %i\" % (p, o, (p/o)))\n",
    "    p += 1; o += 1"
   ]
  },
  {
   "cell_type": "code",
   "execution_count": 25,
   "metadata": {},
   "outputs": [
    {
     "name": "stdout",
     "output_type": "stream",
     "text": [
      "10 + 5 = 10\n",
      "11 + 6 = 11\n",
      "12 + 7 = 12\n",
      "13 + 8 = 13\n",
      "14 + 9 = 14\n",
      "15 + 10 = 15\n",
      "16 + 11 = 16\n",
      "17 + 12 = 17\n",
      "18 + 13 = 18\n",
      "19 + 14 = 19\n",
      "20 + 15 = 20\n",
      "21 + 16 = 21\n"
     ]
    }
   ],
   "source": [
    "num = 10; cake = 5\n",
    "while num < 12: \n",
    "    while cake < 17: \n",
    "        print(\"{0} + {1} = {2}\".format(num, cake, num, num+cake))\n",
    "        cake+= 1; num += 1"
   ]
  },
  {
   "cell_type": "code",
   "execution_count": 28,
   "metadata": {},
   "outputs": [
    {
     "name": "stdout",
     "output_type": "stream",
     "text": [
      "Python\n",
      "Javascript\n",
      "VBA\n",
      "C++\n",
      "HTML\n",
      "C\n"
     ]
    }
   ],
   "source": [
    "lang = [\"Python\", \"java\", \"Javascript\", \"R\", \"VBA\", \"C#\", \"C++\", \"Julia\", \"HTML\", \"CSS\", \"C\", \"Go\"]\n",
    "x = 0 \n",
    "while x < len(lang):\n",
    "    print(lang[x]) ; x +=2"
   ]
  },
  {
   "cell_type": "code",
   "execution_count": 29,
   "metadata": {},
   "outputs": [
    {
     "name": "stdout",
     "output_type": "stream",
     "text": [
      "0\n",
      "1\n",
      "2\n",
      "3\n",
      "4\n"
     ]
    }
   ],
   "source": [
    "g = 0 \n",
    "while g < 5: \n",
    "    print(g)\n",
    "    g += 1"
   ]
  },
  {
   "cell_type": "code",
   "execution_count": 30,
   "metadata": {},
   "outputs": [
    {
     "name": "stdout",
     "output_type": "stream",
     "text": [
      "0\n",
      "1\n",
      "2\n",
      "3\n",
      "4\n"
     ]
    }
   ],
   "source": [
    "#to convert the above into a for loop\n",
    "for d in range(5):\n",
    "    print(d)"
   ]
  },
  {
   "cell_type": "code",
   "execution_count": 32,
   "metadata": {},
   "outputs": [
    {
     "name": "stdout",
     "output_type": "stream",
     "text": [
      "1 + 1 = 2\n",
      "2 + 2 = 4\n",
      "3 + 3 = 6\n",
      "4 + 4 = 8\n"
     ]
    }
   ],
   "source": [
    "a = 1; b = 1\n",
    "while a < 5: \n",
    "    while b < 5: \n",
    "        print(\"{} + {} = {}\".format(a, b, b+a))\n",
    "        a += 1; b +=1"
   ]
  },
  {
   "cell_type": "code",
   "execution_count": 34,
   "metadata": {},
   "outputs": [
    {
     "name": "stdout",
     "output_type": "stream",
     "text": [
      "1 + 1 = 2\n",
      "1 + 2 = 3\n",
      "1 + 3 = 4\n",
      "1 + 4 = 5\n",
      "2 + 1 = 3\n",
      "2 + 2 = 4\n",
      "2 + 3 = 5\n",
      "2 + 4 = 6\n",
      "3 + 1 = 4\n",
      "3 + 2 = 5\n",
      "3 + 3 = 6\n",
      "3 + 4 = 7\n",
      "4 + 1 = 5\n",
      "4 + 2 = 6\n",
      "4 + 3 = 7\n",
      "4 + 4 = 8\n"
     ]
    }
   ],
   "source": [
    "#to convert the above into a for loop\n",
    "for j in range(1,5):\n",
    "    for k in range(1,5):\n",
    "        print(\"{} + {} = {}\".format(j, k, j+k))"
   ]
  },
  {
   "cell_type": "code",
   "execution_count": 35,
   "metadata": {},
   "outputs": [
    {
     "name": "stdout",
     "output_type": "stream",
     "text": [
      "1 + 1 = 2\n",
      "2 + 2 = 4\n",
      "3 + 3 = 6\n",
      "4 + 4 = 8\n"
     ]
    }
   ],
   "source": [
    "#that didn't work. What about this:\n",
    "\n",
    "for t in range(1, 5):\n",
    "    print(\"{} + {} = {}\".format(t, t, t+t))"
   ]
  },
  {
   "cell_type": "code",
   "execution_count": 38,
   "metadata": {},
   "outputs": [
    {
     "name": "stdout",
     "output_type": "stream",
     "text": [
      "while num1 = 0\n",
      "50\n",
      "80\n",
      "100\n",
      "while num1 = 20\n",
      "70\n",
      "100\n",
      "120\n",
      "while num1 = 40\n",
      "90\n",
      "120\n",
      "140\n",
      "while num1 = 60\n",
      "110\n",
      "140\n",
      "160\n",
      "while num1 = 80\n",
      "130\n",
      "160\n",
      "180\n",
      "while num1 = 100\n",
      "150\n",
      "180\n",
      "200\n"
     ]
    }
   ],
   "source": [
    "num1 = 0 \n",
    "while num1 < 110:\n",
    "    print(\"while num1 =\", num1)\n",
    "    for g in [50, 80, 100]:\n",
    "        res = num1 + g\n",
    "        print(res)\n",
    "    num1 += 20"
   ]
  },
  {
   "cell_type": "code",
   "execution_count": null,
   "metadata": {},
   "outputs": [],
   "source": []
  }
 ],
 "metadata": {
  "kernelspec": {
   "display_name": "Python 3",
   "language": "python",
   "name": "python3"
  },
  "language_info": {
   "codemirror_mode": {
    "name": "ipython",
    "version": 3
   },
   "file_extension": ".py",
   "mimetype": "text/x-python",
   "name": "python",
   "nbconvert_exporter": "python",
   "pygments_lexer": "ipython3",
   "version": "3.7.1"
  }
 },
 "nbformat": 4,
 "nbformat_minor": 2
}
