{
 "cells": [
  {
   "cell_type": "code",
   "execution_count": 27,
   "metadata": {},
   "outputs": [
    {
     "name": "stdout",
     "output_type": "stream",
     "text": [
      "77\n"
     ]
    }
   ],
   "source": [
    "toys = {\"robots\": \"$40.0\", \"car\": \"$25\", \"ironman\": \"$12\"}\n",
    "print(int(eval(list(toys.values())[0][1:]) + eval(list(toys.values())[1][1:]) + eval(list(toys.values())[2][1:])))\n"
   ]
  },
  {
   "cell_type": "code",
   "execution_count": 30,
   "metadata": {},
   "outputs": [
    {
     "data": {
      "text/plain": [
       "[True, True, False, True, False]"
      ]
     },
     "execution_count": 30,
     "metadata": {},
     "output_type": "execute_result"
    }
   ],
   "source": [
    "questions = [10 != 4, 50 == 50, 90 == 10, \"c\" in (\"a\", \"b\", \"c\"), 100 != 100]\n",
    "questions"
   ]
  },
  {
   "cell_type": "code",
   "execution_count": 35,
   "metadata": {},
   "outputs": [
    {
     "data": {
      "text/plain": [
       "True"
      ]
     },
     "execution_count": 35,
     "metadata": {},
     "output_type": "execute_result"
    }
   ],
   "source": [
    "films = {\"k1\": \"blade runner 2049\", \"k2\": \"matrix\", \"k3\": \"terminator\"}\n",
    "len(films[\"k1\"]) > len(films[\"k2\"]) < (len(films[\"k3\"]))"
   ]
  },
  {
   "cell_type": "code",
   "execution_count": 44,
   "metadata": {
    "scrolled": true
   },
   "outputs": [
    {
     "data": {
      "text/plain": [
       "{0: 'embryo',\n",
       " 1: 'fetus',\n",
       " 2: 'baby',\n",
       " 3: 'Infant',\n",
       " 4: 'teen',\n",
       " 5: 'adult',\n",
       " 6: 'big kid!'}"
      ]
     },
     "execution_count": 44,
     "metadata": {},
     "output_type": "execute_result"
    }
   ],
   "source": [
    "life_stages = {0: \"embryo\", 1: \"fetus\", 2: \"baby\", 3: \"Infant\", 4: \"teen\"}\n",
    "midlife = {5: \"adult\", 6: \"big kid!\"}\n",
    "life_stages.update(midlife)\n",
    "life_stages"
   ]
  },
  {
   "cell_type": "code",
   "execution_count": 91,
   "metadata": {},
   "outputs": [
    {
     "data": {
      "text/plain": [
       "833.0"
      ]
     },
     "execution_count": 91,
     "metadata": {},
     "output_type": "execute_result"
    }
   ],
   "source": [
    "nest1 = [{1, 2, 3}, {\"k1\": [8, 1, 300, 2, 77], \"k2\": [10, 20, 30]}, [\"a\", \"500\", \"c\"]]\n",
    "\n",
    "float(sorted(nest1[0])[2] + sorted(sorted(nest1[1].values())[0])[-1] + sorted(sorted(nest1[1].values())[1])[2] + eval(nest1[2][1]))"
   ]
  },
  {
   "cell_type": "code",
   "execution_count": 190,
   "metadata": {},
   "outputs": [
    {
     "data": {
      "text/plain": [
       "'The bill for the pizza, chips and drink come to $15.5'"
      ]
     },
     "execution_count": 190,
     "metadata": {},
     "output_type": "execute_result"
    }
   ],
   "source": [
    "prices = [\"a\", \"b\", \"9\", \"c\", \"d\", \"FOUR\", \"e\", \"f\", \"2.5\"]\n",
    "\n",
    "sentence = \"\"\"The bill for the {}#!/,?? {}#!/?? and drink come to {}??\"\"\"\n",
    "\n",
    "prices = prices[2:9:3] #correct\n",
    "len(sentence)\n",
    "sentence.format(\"pizza\", \"chips\", \"$\" + str(eval(prices[0]) + eval(prices[2]) + len(prices[1]))).replace(\"??\", \"\").replace(\"#!/\", \"\")\n",
    "\n",
    "\n",
    "\n",
    "#sentence.replace(\"#!/,??\", \"\").replace(\"#!/??\", \"\") #I added in pizza and chips here rather than blank spaces\n",
    "#sentence.format(new_prices). He had this code further up in the workings and used it to add in pizza and chips\n",
    "\n",
    "\n",
    "#this task I got stuck on and had to watch the video on for the last section.\n",
    "#The main difference between my code and his was I broke mien down into stages on different lines. and I tried to add the formatting at the end. His worked out as one long line of code. Does this make it more unreadable? Probably for a beginner! "
   ]
  }
 ],
 "metadata": {
  "kernelspec": {
   "display_name": "Python 3",
   "language": "python",
   "name": "python3"
  },
  "language_info": {
   "codemirror_mode": {
    "name": "ipython",
    "version": 3
   },
   "file_extension": ".py",
   "mimetype": "text/x-python",
   "name": "python",
   "nbconvert_exporter": "python",
   "pygments_lexer": "ipython3",
   "version": "3.7.1"
  }
 },
 "nbformat": 4,
 "nbformat_minor": 2
}
