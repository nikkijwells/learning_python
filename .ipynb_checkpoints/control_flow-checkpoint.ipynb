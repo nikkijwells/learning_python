{
 "cells": [
  {
   "cell_type": "code",
   "execution_count": 1,
   "metadata": {},
   "outputs": [],
   "source": [
    "#Control flow (if, else, elif)\n",
    "\n",
    "#adds logic to our code\n",
    "#the if statement performs a task if the condition is true \n",
    "#the else statement performs a default when the if  statement's condition in false\n",
    "#else statments cannot exist on their own\n",
    "# The elif statement (short for else if) work in between if and else statements\n",
    "#elif only performs a task when true, and the statement is false.\n",
    "\n",
    "#Depends on Indentation!! Something very unique to Python"
   ]
  },
  {
   "cell_type": "code",
   "execution_count": 1,
   "metadata": {},
   "outputs": [],
   "source": [
    "a = 10; b = 25; c= 100; d= (\"cat\", \"dog\", \"bird\")"
   ]
  },
  {
   "cell_type": "code",
   "execution_count": 5,
   "metadata": {},
   "outputs": [
    {
     "name": "stdout",
     "output_type": "stream",
     "text": [
      "This is true!\n"
     ]
    }
   ],
   "source": [
    "if a == 10 and b< 40:\n",
    "    print(\"This is true!\")\n",
    "else: \n",
    "    print (\"This is false!\")"
   ]
  },
  {
   "cell_type": "code",
   "execution_count": 4,
   "metadata": {},
   "outputs": [
    {
     "name": "stdout",
     "output_type": "stream",
     "text": [
      "This is True!\n"
     ]
    }
   ],
   "source": [
    "if a == 10: \n",
    "    if b < 40:\n",
    "        print(\"This is True!\")\n",
    "#nested if statement"
   ]
  },
  {
   "cell_type": "code",
   "execution_count": 8,
   "metadata": {},
   "outputs": [
    {
     "name": "stdout",
     "output_type": "stream",
     "text": [
      "a is true!\n",
      "b is true!\n"
     ]
    }
   ],
   "source": [
    "if a == 10: \n",
    "    print(\"a is true!\")\n",
    "    \n",
    "    if b < 40:\n",
    "        print(\"b is true!\")\n",
    "    else:\n",
    "        print(\"b is false!\")\n",
    "else:\n",
    "    print(\"a is false!\") #if python finds a false statement it defaults to this else statement. Completely ignoring the one before.\n",
    "#a has to be true in order for b to be checked. This is the case with any further nesting. so if we added in if statements for c and d these would only be evaulated if a and b were true. "
   ]
  },
  {
   "cell_type": "code",
   "execution_count": 17,
   "metadata": {},
   "outputs": [
    {
     "name": "stdout",
     "output_type": "stream",
     "text": [
      "Enter a number: 2\n",
      "Found a bird!\n"
     ]
    }
   ],
   "source": [
    "num = eval(input(\"Enter a number: \"))#this outputs a string. You need to use eval to convert this to an interger. \n",
    "\n",
    "if num >= 3: \n",
    "    print(\"Keep looking\")\n",
    "    \n",
    "elif d[num] == \"cat\":\n",
    "    print(\"Found a{}\".format(d(num)))\n",
    "    \n",
    "elif d[num] == \"dog\":\n",
    "    print(\"Found a{}\".format(d(num)))\n",
    "    \n",
    "else: \n",
    "    print(\"Found a bird!\")\n",
    "    \n",
    "#you can have as many elif statements as you like between the if and else. "
   ]
  },
  {
   "cell_type": "code",
   "execution_count": 25,
   "metadata": {},
   "outputs": [
    {
     "data": {
      "text/plain": [
       "[[0, 1, 2, 3, 4, 5, 6, 7, 8, 9, 10],\n",
       " [11, 12, 13, 14, 15, 16, 17, 18, 19, 20],\n",
       " [21, 22, 23, 24, 25, 26, 27, 28, 29, 30]]"
      ]
     },
     "execution_count": 25,
     "metadata": {},
     "output_type": "execute_result"
    }
   ],
   "source": [
    "total = [list(range(11)), list(range(11, 21)), list(range(21, 31))]\n",
    "total"
   ]
  },
  {
   "cell_type": "code",
   "execution_count": 29,
   "metadata": {},
   "outputs": [
    {
     "name": "stdout",
     "output_type": "stream",
     "text": [
      "Enter a number: 28\n",
      "28 in list three\n"
     ]
    }
   ],
   "source": [
    "v = eval(input(\"Enter a number: \"))\n",
    "\n",
    "if v in total[0]:\n",
    "    print(v, \"in list one\")\n",
    "\n",
    "elif v in total[1]:\n",
    "    print(v, \"in list two\")\n",
    "\n",
    "elif v in total[2]:\n",
    "    print(v, \"in list three\")\n",
    "\n",
    "else: \n",
    "    print(\"not in any list!\")"
   ]
  }
 ],
 "metadata": {
  "kernelspec": {
   "display_name": "Python 3",
   "language": "python",
   "name": "python3"
  },
  "language_info": {
   "codemirror_mode": {
    "name": "ipython",
    "version": 3
   },
   "file_extension": ".py",
   "mimetype": "text/x-python",
   "name": "python",
   "nbconvert_exporter": "python",
   "pygments_lexer": "ipython3",
   "version": "3.7.1"
  }
 },
 "nbformat": 4,
 "nbformat_minor": 2
}
