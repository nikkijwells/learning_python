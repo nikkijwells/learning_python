{
 "cells": [
  {
   "cell_type": "code",
   "execution_count": 1,
   "metadata": {},
   "outputs": [],
   "source": [
    "#for loops (lists, tuples and dictionaries)\n",
    "\n",
    "#for loops iterate iver elements from a sequence (list, tuple or dictionary)\n",
    "#outputs all the elements from the sequence"
   ]
  },
  {
   "cell_type": "code",
   "execution_count": 2,
   "metadata": {},
   "outputs": [
    {
     "name": "stdout",
     "output_type": "stream",
     "text": [
      "0\n",
      "1\n",
      "2\n",
      "3\n"
     ]
    }
   ],
   "source": [
    "for i in range(4):\n",
    "    print(i)"
   ]
  },
  {
   "cell_type": "code",
   "execution_count": 3,
   "metadata": {},
   "outputs": [
    {
     "name": "stdout",
     "output_type": "stream",
     "text": [
      "Hello World\n",
      "Hello World\n",
      "Hello World\n",
      "Hello World\n"
     ]
    }
   ],
   "source": [
    "for greeting in range(4):\n",
    "    print(\"Hello World\")"
   ]
  },
  {
   "cell_type": "code",
   "execution_count": 5,
   "metadata": {
    "scrolled": true
   },
   "outputs": [
    {
     "name": "stdout",
     "output_type": "stream",
     "text": [
      "tiger\n",
      "lion\n",
      "jaguar\n",
      "leopard\n"
     ]
    }
   ],
   "source": [
    "cats = [\"tiger\", \"lion\", \"jaguar\", \"leopard\"]\n",
    "for cat in cats:\n",
    "    print(cat)"
   ]
  },
  {
   "cell_type": "code",
   "execution_count": 6,
   "metadata": {},
   "outputs": [
    {
     "name": "stdout",
     "output_type": "stream",
     "text": [
      "0 30 0\n",
      "1 31 1\n",
      "2 32 4\n",
      "3 33 9\n"
     ]
    }
   ],
   "source": [
    "for num in range(4):\n",
    "    print(num, num + 30, num * num)"
   ]
  },
  {
   "cell_type": "code",
   "execution_count": 3,
   "metadata": {},
   "outputs": [
    {
     "name": "stdout",
     "output_type": "stream",
     "text": [
      "[10, 20, 30]\n",
      "[3.5, 4.5, 5.5]\n",
      "['sword', 'hammer', 'shield']\n"
     ]
    }
   ],
   "source": [
    "nest1 = [[10, 20 , 30], [3.5, 4.5, 5.5], [\"sword\", \"hammer\", \"shield\"]]\n",
    "\n",
    "for i in range(3):\n",
    "    print(nest1[i])"
   ]
  },
  {
   "cell_type": "code",
   "execution_count": 8,
   "metadata": {},
   "outputs": [
    {
     "name": "stdout",
     "output_type": "stream",
     "text": [
      "Sword: Power Level = 13.5\n",
      "Hammer: Power Level = 24.5\n",
      "Shield: Power Level = 35.5\n"
     ]
    }
   ],
   "source": [
    "weapons = []\n",
    "for i in range(3):\n",
    "    res = nest1[0][i] + nest1[1][i]\n",
    "    \n",
    "    print(nest1[2][i].capitalize() + \": Power Level =\", res)"
   ]
  },
  {
   "cell_type": "code",
   "execution_count": 6,
   "metadata": {},
   "outputs": [
    {
     "data": {
      "text/plain": [
       "['Sword: Power Level = 13.5',\n",
       " 'Hammer: Power Level = 24.5',\n",
       " 'Shield: Power Level = 35.5']"
      ]
     },
     "execution_count": 6,
     "metadata": {},
     "output_type": "execute_result"
    }
   ],
   "source": [
    "weapons = []\n",
    "for i in range(3):\n",
    "    s = nest1[2][i].capitalize() + \": Power Level = \" + str(nest1[0][i] + nest1[1][i])\n",
    "    weapons.append(s)\n",
    "weapons"
   ]
  },
  {
   "cell_type": "code",
   "execution_count": 9,
   "metadata": {},
   "outputs": [
    {
     "name": "stdout",
     "output_type": "stream",
     "text": [
      "1 + 1 = 1\n",
      "2 + 2 = 4\n",
      "3 + 3 = 9\n",
      "4 + 4 = 16\n",
      "5 + 5 = 25\n",
      "6 + 6 = 36\n",
      "7 + 7 = 49\n"
     ]
    }
   ],
   "source": [
    "for i in range(1, 8): \n",
    "    print(\"{} + {} = {}\".format(i, i, (i * i)))"
   ]
  },
  {
   "cell_type": "code",
   "execution_count": 10,
   "metadata": {},
   "outputs": [
    {
     "name": "stdout",
     "output_type": "stream",
     "text": [
      "1 * 1 = 1\n",
      "2 * 2 = 4\n",
      "3 * 3 = 9\n",
      "4 * 4 = 16\n",
      "5 * 5 = 25\n",
      "6 * 6 = 36\n",
      "7 * 7 = 49\n"
     ]
    }
   ],
   "source": [
    "for k in range(1, 8):\n",
    "    print(\"%d * %d = %d\" % (k, k, k*k))"
   ]
  },
  {
   "cell_type": "code",
   "execution_count": 12,
   "metadata": {},
   "outputs": [
    {
     "name": "stdout",
     "output_type": "stream",
     "text": [
      "(10, 20)\n",
      "('a', 'b')\n",
      "(200, 400)\n"
     ]
    }
   ],
   "source": [
    "tup1 = ((10, 20), (\"a\", \"b\"), (200, 400))\n",
    "\n",
    "for t in tup1: \n",
    "    print(t)"
   ]
  },
  {
   "cell_type": "code",
   "execution_count": 14,
   "metadata": {},
   "outputs": [
    {
     "name": "stdout",
     "output_type": "stream",
     "text": [
      "10 20\n",
      "a b\n",
      "200 400\n"
     ]
    }
   ],
   "source": [
    "tup1 = ((10, 20), (\"a\", \"b\"), (200, 400))\n",
    "\n",
    "#TUPLE UNPACKING! If we add in another value to the tuple it throws an error: ValueError: too many values to unpack. \n",
    "#you would need to add another value to the loop (see next box)\n",
    "for x, y in tup1: \n",
    "    print(x, y)"
   ]
  },
  {
   "cell_type": "code",
   "execution_count": 15,
   "metadata": {},
   "outputs": [
    {
     "name": "stdout",
     "output_type": "stream",
     "text": [
      "10 20 30\n",
      "a b c\n",
      "200 400 600\n"
     ]
    }
   ],
   "source": [
    "tup1 = ((10, 20, 30), (\"a\", \"b\", \"c\"), (200, 400, 600))\n",
    "\n",
    "#TUPLE UNPACKING! \n",
    "for x, y, z in tup1: \n",
    "    print(x, y, z)"
   ]
  },
  {
   "cell_type": "code",
   "execution_count": 18,
   "metadata": {},
   "outputs": [
    {
     "name": "stdout",
     "output_type": "stream",
     "text": [
      "10 20 30\n",
      "a b c\n",
      "200 400 600\n",
      "10 20 30\n",
      "a b c\n",
      "200 400 600\n"
     ]
    }
   ],
   "source": [
    "tup1 = ((10, 20, 30), (\"a\", \"b\", \"c\"), (200, 400, 600))\n",
    "\n",
    "#NESTED FOR LOOP\n",
    "for i in range(2): \n",
    "    for x, y, z in tup1: \n",
    "        print(x, y, z)"
   ]
  },
  {
   "cell_type": "code",
   "execution_count": 20,
   "metadata": {},
   "outputs": [
    {
     "name": "stdout",
     "output_type": "stream",
     "text": [
      "chocolate\n",
      "lemon\n",
      "carrot\n",
      "vanilla\n"
     ]
    }
   ],
   "source": [
    "cakes = [\"chocolate\", \"lemon\", \"carrot\", \"vanilla\"]\n",
    "d1 = {\"k1\": cakes, \"k2\": [10, 20, 30, 40]}\n",
    "\n",
    "#for loop using a dictionary\n",
    "for d in d1[\"k1\"]:\n",
    "    print(d)"
   ]
  }
 ],
 "metadata": {
  "kernelspec": {
   "display_name": "Python 3",
   "language": "python",
   "name": "python3"
  },
  "language_info": {
   "codemirror_mode": {
    "name": "ipython",
    "version": 3
   },
   "file_extension": ".py",
   "mimetype": "text/x-python",
   "name": "python",
   "nbconvert_exporter": "python",
   "pygments_lexer": "ipython3",
   "version": "3.7.1"
  }
 },
 "nbformat": 4,
 "nbformat_minor": 2
}
