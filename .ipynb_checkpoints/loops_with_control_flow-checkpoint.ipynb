{
 "cells": [
  {
   "cell_type": "code",
   "execution_count": 1,
   "metadata": {},
   "outputs": [
    {
     "name": "stdout",
     "output_type": "stream",
     "text": [
      "Even Number = 0\n",
      "Odd Number = 1\n",
      "Even Number = 2\n",
      "Odd Number = 3\n",
      "Even Number = 4\n",
      "Odd Number = 5\n",
      "Even Number = 6\n",
      "Odd Number = 7\n",
      "Even Number = 8\n",
      "Odd Number = 9\n"
     ]
    }
   ],
   "source": [
    "for i in range(10):\n",
    "    if i % 2 == 0:\n",
    "        print(\"Even Number =\", i)\n",
    "    else: \n",
    "        print(\"Odd Number =\", i)"
   ]
  },
  {
   "cell_type": "code",
   "execution_count": 2,
   "metadata": {},
   "outputs": [
    {
     "name": "stdout",
     "output_type": "stream",
     "text": [
      "0\n",
      "1\n",
      "2\n",
      "3\n",
      "Morning!\n",
      "5\n",
      "6\n",
      "Night!\n"
     ]
    }
   ],
   "source": [
    "for i in range(8):\n",
    "    if i == 4: \n",
    "        print(\"Morning!\")\n",
    "    elif i == 7: \n",
    "        print(\"Night!\")\n",
    "    else: \n",
    "        print(i)"
   ]
  },
  {
   "cell_type": "code",
   "execution_count": 3,
   "metadata": {},
   "outputs": [
    {
     "name": "stdout",
     "output_type": "stream",
     "text": [
      "COOL!\n",
      "COOL!\n",
      "COOL!\n",
      "COOL!\n",
      "COOL!\n",
      "COOL!\n",
      "Hello there\n",
      "COOL!\n",
      "COOL!\n",
      "Good Morning!\n"
     ]
    }
   ],
   "source": [
    "x = 0 \n",
    "while x < 10: \n",
    "    if x == 6: \n",
    "        print(\"Hello there\")\n",
    "    elif x > 8: \n",
    "        print(\"Good Morning!\")\n",
    "    else: \n",
    "        print(\"COOL!\")\n",
    "    x += 1"
   ]
  },
  {
   "cell_type": "code",
   "execution_count": null,
   "metadata": {},
   "outputs": [],
   "source": [
    "#the same as above using a for loop. For loops seem to use less lines of code. \n",
    "for s in range(10):\n",
    "    if s == 6: \n",
    "        print(\"Hello there\")\n",
    "    elif s > 8: \n",
    "        print(\"Good Morning!\")\n",
    "    else:\n",
    "        print(\"Cool!\")"
   ]
  },
  {
   "cell_type": "code",
   "execution_count": 5,
   "metadata": {},
   "outputs": [
    {
     "name": "stdout",
     "output_type": "stream",
     "text": [
      "Greater!\n",
      "Greater!\n",
      "Less\n",
      "Equal!\n",
      "Less\n",
      "Less\n",
      "Equal!\n"
     ]
    }
   ],
   "source": [
    "num = [10, 5, 20, 3, 100, 4, 7]\n",
    "rad = [4, 1, 40, 3, 120, 5, 7]\n",
    "x= 0 \n",
    "while x < len(num):\n",
    "    if num[x] == rad[x]:\n",
    "        print(\"Equal!\")\n",
    "    elif num[x] >rad[x]:\n",
    "        print(\"Greater!\")\n",
    "    else:\n",
    "        print(\"Less\")\n",
    "    x += 1"
   ]
  },
  {
   "cell_type": "code",
   "execution_count": 6,
   "metadata": {},
   "outputs": [
    {
     "name": "stdout",
     "output_type": "stream",
     "text": [
      "Greater!\n",
      "Greater!\n",
      "Less\n",
      "Equal!\n",
      "Less\n",
      "Less\n",
      "Equal!\n"
     ]
    }
   ],
   "source": [
    "for x in range(len(num)):\n",
    "    if num[x] == rad[x]:\n",
    "        print(\"Equal!\")\n",
    "    elif num[x] >rad[x]:\n",
    "        print(\"Greater!\")\n",
    "    else:\n",
    "        print(\"Less\")"
   ]
  }
 ],
 "metadata": {
  "kernelspec": {
   "display_name": "Python 3",
   "language": "python",
   "name": "python3"
  },
  "language_info": {
   "codemirror_mode": {
    "name": "ipython",
    "version": 3
   },
   "file_extension": ".py",
   "mimetype": "text/x-python",
   "name": "python",
   "nbconvert_exporter": "python",
   "pygments_lexer": "ipython3",
   "version": "3.7.1"
  }
 },
 "nbformat": 4,
 "nbformat_minor": 2
}
