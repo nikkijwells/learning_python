{
 "cells": [
  {
   "cell_type": "code",
   "execution_count": 27,
   "metadata": {},
   "outputs": [
    {
     "name": "stdout",
     "output_type": "stream",
     "text": [
      "77\n"
     ]
    }
   ],
   "source": [
    "toys = {\"robots\": \"$40.0\", \"car\": \"$25\", \"ironman\": \"$12\"}\n",
    "print(int(eval(list(toys.values())[0][1:]) + eval(list(toys.values())[1][1:]) + eval(list(toys.values())[2][1:])))\n"
   ]
  },
  {
   "cell_type": "code",
   "execution_count": 30,
   "metadata": {},
   "outputs": [
    {
     "data": {
      "text/plain": [
       "[True, True, False, True, False]"
      ]
     },
     "execution_count": 30,
     "metadata": {},
     "output_type": "execute_result"
    }
   ],
   "source": [
    "questions = [10 != 4, 50 == 50, 90 == 10, \"c\" in (\"a\", \"b\", \"c\"), 100 != 100]\n",
    "questions"
   ]
  },
  {
   "cell_type": "code",
   "execution_count": 35,
   "metadata": {},
   "outputs": [
    {
     "data": {
      "text/plain": [
       "True"
      ]
     },
     "execution_count": 35,
     "metadata": {},
     "output_type": "execute_result"
    }
   ],
   "source": [
    "films = {\"k1\": \"blade runner 2049\", \"k2\": \"matrix\", \"k3\": \"terminator\"}\n",
    "len(films[\"k1\"]) > len(films[\"k2\"]) < (len(films[\"k3\"]))"
   ]
  },
  {
   "cell_type": "code",
   "execution_count": 44,
   "metadata": {
    "scrolled": true
   },
   "outputs": [
    {
     "data": {
      "text/plain": [
       "{0: 'embryo',\n",
       " 1: 'fetus',\n",
       " 2: 'baby',\n",
       " 3: 'Infant',\n",
       " 4: 'teen',\n",
       " 5: 'adult',\n",
       " 6: 'big kid!'}"
      ]
     },
     "execution_count": 44,
     "metadata": {},
     "output_type": "execute_result"
    }
   ],
   "source": [
    "life_stages = {0: \"embryo\", 1: \"fetus\", 2: \"baby\", 3: \"Infant\", 4: \"teen\"}\n",
    "midlife = {5: \"adult\", 6: \"big kid!\"}\n",
    "life_stages.update(midlife)\n",
    "life_stages"
   ]
  },
  {
   "cell_type": "code",
   "execution_count": null,
   "metadata": {},
   "outputs": [],
   "source": [
    "nest1 = "
   ]
  }
 ],
 "metadata": {
  "kernelspec": {
   "display_name": "Python 3",
   "language": "python",
   "name": "python3"
  },
  "language_info": {
   "codemirror_mode": {
    "name": "ipython",
    "version": 3
   },
   "file_extension": ".py",
   "mimetype": "text/x-python",
   "name": "python",
   "nbconvert_exporter": "python",
   "pygments_lexer": "ipython3",
   "version": "3.7.1"
  }
 },
 "nbformat": 4,
 "nbformat_minor": 2
}
