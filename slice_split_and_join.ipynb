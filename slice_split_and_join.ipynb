{
 "cells": [
  {
   "cell_type": "code",
   "execution_count": 2,
   "metadata": {},
   "outputs": [
    {
     "data": {
      "text/plain": [
       "'bdf'"
      ]
     },
     "execution_count": 2,
     "metadata": {},
     "output_type": "execute_result"
    }
   ],
   "source": [
    "#index, slicing and stride\n",
    "#both spilt and join menthods which perform opposing operations\n",
    "#the 'slice' built-in python function\n",
    "#membership operator 'in' and inverse boolean operator 'not'\n",
    "\n",
    "#indexing\n",
    "greeting = \"Hello World\"\n",
    "greeting[0]\n",
    "#output: 'H'\n",
    "\n",
    "#slicing\n",
    "greeting[6:]\n",
    "#output:'World'\n",
    "\n",
    "#stride\n",
    "letters = 'abcdef'\n",
    "letters[1:2]\n",
    "'bdf'"
   ]
  },
  {
   "cell_type": "code",
   "execution_count": 52,
   "metadata": {},
   "outputs": [],
   "source": [
    "robot = 'technologically'\n",
    "consoles = 'ps4 is cooler than xbox!'\n",
    "code = \"p1y2t3h4o5n6i7c8\"\n",
    "words = 'I saw a cat jump over the moon and into the clouds'\n",
    "new_words = 'I saw a cow fly over the gate and into the forest'\n",
    "pay = 'I recieved a total of £500 for that website'"
   ]
  },
  {
   "cell_type": "code",
   "execution_count": 12,
   "metadata": {},
   "outputs": [
    {
     "data": {
      "text/plain": [
       "'call'"
      ]
     },
     "execution_count": 12,
     "metadata": {},
     "output_type": "execute_result"
    }
   ],
   "source": [
    "len(robot) #len starts at 1. Indexing starts at 0\n",
    "robot[0:6] #this is a slice. When doing slicing the last number isn't included.\n",
    "robot[6:]\n",
    "robot[6:13] \n",
    "robot[10:14] "
   ]
  },
  {
   "cell_type": "code",
   "execution_count": 24,
   "metadata": {},
   "outputs": [
    {
     "data": {
      "text/plain": [
       "'cooler'"
      ]
     },
     "execution_count": 24,
     "metadata": {},
     "output_type": "execute_result"
    }
   ],
   "source": [
    "consoles.endswith(\"!\") #output is a boolean\n",
    "len(consoles)\n",
    "consoles[23]\n",
    "consoles.find(\"4\")\n",
    "consoles[7:13]\n",
    "consoles[-1]\n",
    "consoles[-17:-11] #negative indexing"
   ]
  },
  {
   "cell_type": "code",
   "execution_count": 35,
   "metadata": {},
   "outputs": [
    {
     "data": {
      "text/plain": [
       "'8642'"
      ]
     },
     "execution_count": 35,
     "metadata": {},
     "output_type": "execute_result"
    }
   ],
   "source": [
    "code.replace(\"1\", \"\").replace(\"2\", \"\") #completely inefficient\n",
    "code[0::2].upper() #slice. Outputs every other item starting at 0.\n",
    "code[1::2] #as above, but the numbers rather than the letters in code\n",
    "code[1::2][::-1] #second part reverses the numbers. \n",
    "code[1::2][::-2] #reverses but takes every second number"
   ]
  },
  {
   "cell_type": "code",
   "execution_count": 43,
   "metadata": {},
   "outputs": [
    {
     "data": {
      "text/plain": [
       "['cat', 'over', 'moon']"
      ]
     },
     "execution_count": 43,
     "metadata": {},
     "output_type": "execute_result"
    }
   ],
   "source": [
    "var = words.split()\n",
    "len(var)\n",
    "var[3:8:2]"
   ]
  },
  {
   "cell_type": "code",
   "execution_count": 46,
   "metadata": {},
   "outputs": [
    {
     "data": {
      "text/plain": [
       "['cow', 'over', 'gate', 'into', 'forest']"
      ]
     },
     "execution_count": 46,
     "metadata": {},
     "output_type": "execute_result"
    }
   ],
   "source": [
    "sl = slice(3, 12, 2)\n",
    "new_words.split()[sl]"
   ]
  },
  {
   "cell_type": "code",
   "execution_count": 47,
   "metadata": {},
   "outputs": [
    {
     "data": {
      "text/plain": [
       "['cat', 'over', 'moon', 'into', 'clouds']"
      ]
     },
     "execution_count": 47,
     "metadata": {},
     "output_type": "execute_result"
    }
   ],
   "source": [
    "var[sl]"
   ]
  },
  {
   "cell_type": "code",
   "execution_count": 50,
   "metadata": {},
   "outputs": [
    {
     "name": "stdout",
     "output_type": "stream",
     "text": [
      "['I', 'saw', 'a', 'cat', 'jump', 'over', 'the', 'moon', 'and', 'into', 'the', 'clouds']\n"
     ]
    },
    {
     "data": {
      "text/plain": [
       "'I saw a cat jump over the moon and into the clouds'"
      ]
     },
     "execution_count": 50,
     "metadata": {},
     "output_type": "execute_result"
    }
   ],
   "source": [
    "print(var) #output: list\n",
    "\" \".join(var)"
   ]
  },
  {
   "cell_type": "code",
   "execution_count": 55,
   "metadata": {},
   "outputs": [
    {
     "data": {
      "text/plain": [
       "'500 for that website'"
      ]
     },
     "execution_count": 55,
     "metadata": {},
     "output_type": "execute_result"
    }
   ],
   "source": [
    "pay.split(\"£\")[1]"
   ]
  }
 ],
 "metadata": {
  "kernelspec": {
   "display_name": "Python 3",
   "language": "python",
   "name": "python3"
  },
  "language_info": {
   "codemirror_mode": {
    "name": "ipython",
    "version": 3
   },
   "file_extension": ".py",
   "mimetype": "text/x-python",
   "name": "python",
   "nbconvert_exporter": "python",
   "pygments_lexer": "ipython3",
   "version": "3.7.1"
  }
 },
 "nbformat": 4,
 "nbformat_minor": 2
}
