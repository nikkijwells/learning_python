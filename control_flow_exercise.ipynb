{
 "cells": [
  {
   "cell_type": "code",
   "execution_count": 15,
   "metadata": {},
   "outputs": [
    {
     "name": "stdout",
     "output_type": "stream",
     "text": [
      "Enter a number: 4\n",
      "Where are you?\n"
     ]
    }
   ],
   "source": [
    "d1 = {\"k1\": [1, 2, 3, (100, 300,500)], \"k2\": [4, 5, 6, [\"phone\", \"computer\", \"robot\"]]}\n",
    "var = eval(input(\"Enter a number: \"))\n",
    "\n",
    "if var in d1[\"k1\"]: \n",
    "    print(\"found you!\")\n",
    "    num = eval(input(\"Enter a number: \"))\n",
    "    if (num) in d1[\"k2\"][:3]:\n",
    "        print(\"Found another one!\")\n",
    "            \n",
    "        item = input(\"Enter an item: \")\n",
    "            \n",
    "        if item in d1[\"k2\"][3]:\n",
    "            print(\"Got a\", item)\n",
    "        else:\n",
    "            print(\"Can't find a\", item)\n",
    "    else:\n",
    "        print(\"Can't find anything!\")\n",
    "\n",
    "elif var in d1[\"k1\"][3]:\n",
    "    print(\"can't hide!\")\n",
    "else:\n",
    "    print(\"Where are you?\")"
   ]
  },
  {
   "cell_type": "code",
   "execution_count": 21,
   "metadata": {},
   "outputs": [
    {
     "name": "stdout",
     "output_type": "stream",
     "text": [
      "Enter a number 0 to 2: 9\n",
      "Enter a number 0 to 2: 2\n"
     ]
    }
   ],
   "source": [
    "choose_dish = eval(input(\"Enter a number 0 to 2: \"))\n",
    "pick_sauce = eval(input(\"Enter a number 0 to 2: \"))\n",
    "\n",
    "cooked_pasta = [\"hot\", \"cold\", \"over cooked\"]\n",
    "sauce = [\"spicy\", \"sweet\", \"savoury\"]\n",
    "\n",
    "if choose_dish > 2 and pick_sauce > 2 or choose_dish > 2 or pick_sauce > 2:\n",
    "    None\n",
    "else: \n",
    "    print(\"My meal is\", cooked_pasta[choose_dish], \"and very\", sauce[pick_sauce], \"!\")"
   ]
  }
 ],
 "metadata": {
  "kernelspec": {
   "display_name": "Python 3",
   "language": "python",
   "name": "python3"
  },
  "language_info": {
   "codemirror_mode": {
    "name": "ipython",
    "version": 3
   },
   "file_extension": ".py",
   "mimetype": "text/x-python",
   "name": "python",
   "nbconvert_exporter": "python",
   "pygments_lexer": "ipython3",
   "version": "3.7.1"
  }
 },
 "nbformat": 4,
 "nbformat_minor": 2
}
