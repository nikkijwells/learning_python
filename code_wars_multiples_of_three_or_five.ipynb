def solution(number):
    base_num = 0
    threes_and_fives = []
    num_total = 0
    while base_num < number:
        if base_num % 5 == 0:
            threes_and_fives.append(base_num)
        elif base_num % 3 == 0 and base_num not in threes_and_fives:
            threes_and_fives.append(base_num)
        base_num = base_num + 1

    for i in threes_and_fives:
        num_total = num_total + i
    return num_total

print(solution(10))
